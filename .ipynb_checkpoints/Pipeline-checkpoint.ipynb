{
 "cells": [
  {
   "cell_type": "code",
   "execution_count": 1,
   "id": "b6d5d4df-acd0-4f43-bbad-2d2ac11255a9",
   "metadata": {},
   "outputs": [],
   "source": [
    "seed = 161\n",
    "import pandas as pd\n",
    "import numpy as np\n",
    "import matplotlib.pyplot as plt\n",
    "import seaborn as sns\n",
    "\n",
    "# Composicion de pipelines\n",
    "from sklearn.compose import ColumnTransformer\n",
    "from sklearn.pipeline import Pipeline\n",
    "from sklearn.impute import SimpleImputer\n",
    "from sklearn.preprocessing import PolynomialFeatures\n",
    "from sklearn.preprocessing import MinMaxScaler\n",
    "\n",
    "# Regresion lineal\n",
    "from sklearn.linear_model import LinearRegression\n",
    "\n",
    "# Importar/ Exportar modelos\n",
    "from joblib import dump, load\n",
    "\n",
    "# Metricas\n",
    "from sklearn.metrics import mean_squared_error as mse\n",
    "\n",
    "# q-q plots\n",
    "import scipy.stats as stats"
   ]
  },
  {
   "cell_type": "code",
   "execution_count": 2,
   "id": "95f6aa7a-e6dc-41be-8fc6-e71997badf31",
   "metadata": {},
   "outputs": [],
   "source": [
    "# Se cargan los datos. \n",
    "file_name = './Data/university_admission_train.csv'\n",
    "df_original = pd.read_csv(file_name, sep=',', encoding = 'utf-8', index_col=0)\n",
    "var_obj = 'Admission Points'"
   ]
  },
  {
   "cell_type": "code",
   "execution_count": 3,
   "id": "4c59b4cd-6210-47c3-968c-3a7806869e85",
   "metadata": {},
   "outputs": [],
   "source": [
    "df_prep = df_original.copy()\n",
    "df_prep = df_prep.dropna(subset=[var_obj])"
   ]
  },
  {
   "cell_type": "code",
   "execution_count": 4,
   "id": "9d794e38-98c7-480e-b6f6-d4d4063cb67d",
   "metadata": {},
   "outputs": [],
   "source": [
    "# Columnas a utilizar para la regresion\n",
    "selected_cols = ['CGPA', 'University Rating', 'Research']\n",
    "# Se define el transformador que se usará para normalizar las varibales numéricas: MinMaxScaler()\n",
    "numeric_transformer = Pipeline(steps=[('scaler', MinMaxScaler())])\n",
    "\n",
    "#Column transformer para especificar las transformaciones sobre las columnas seleccionadas\n",
    "preprocessor = ColumnTransformer(\n",
    "    transformers=[\n",
    "        ('selector', 'passthrough', selected_cols),\n",
    "        ('num', numeric_transformer, selected_cols)])\n",
    "pre = [('initial', preprocessor),]\n",
    "model = [('model', LinearRegression())]\n",
    "\n",
    " # Declara el pipeline utilizando los transformadores (pre) y especificando el modelo o tipo de clasificador (model)\n",
    "pipeline = Pipeline(pre+model)"
   ]
  },
  {
   "cell_type": "code",
   "execution_count": 5,
   "id": "c479cfe0-fad9-4ae1-97b0-49d50f302570",
   "metadata": {},
   "outputs": [],
   "source": [
    " # Extraemos las variables explicativas y objetivo para entrenar\n",
    "X = df_prep.drop(var_obj, axis = 1)\n",
    "y = df_prep[var_obj]\n",
    "\n",
    "pipeline = pipeline.fit(X,y)"
   ]
  },
  {
   "cell_type": "code",
   "execution_count": 6,
   "id": "46cb556f-a5c0-4ba3-9b1b-0e46dd08e1e1",
   "metadata": {},
   "outputs": [
    {
     "data": {
      "text/plain": [
       "['LAB4 - API/assets/modelo.joblib']"
      ]
     },
     "execution_count": 6,
     "metadata": {},
     "output_type": "execute_result"
    }
   ],
   "source": [
    "# Usamos la lbreria joblib\n",
    "filename = 'modelo.joblib'\n",
    "# Se guarda\n",
    "dump(pipeline, \"LAB4 - API/assets/\"+filename) "
   ]
  },
  {
   "cell_type": "code",
   "execution_count": null,
   "id": "3dd82f4a-7ec9-4beb-8c59-f71f09b3719d",
   "metadata": {},
   "outputs": [],
   "source": []
  }
 ],
 "metadata": {
  "kernelspec": {
   "display_name": "Python 3 (ipykernel)",
   "language": "python",
   "name": "python3"
  },
  "language_info": {
   "codemirror_mode": {
    "name": "ipython",
    "version": 3
   },
   "file_extension": ".py",
   "mimetype": "text/x-python",
   "name": "python",
   "nbconvert_exporter": "python",
   "pygments_lexer": "ipython3",
   "version": "3.9.12"
  }
 },
 "nbformat": 4,
 "nbformat_minor": 5
}
